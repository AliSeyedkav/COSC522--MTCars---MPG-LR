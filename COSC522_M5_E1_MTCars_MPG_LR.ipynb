{
  "nbformat": 4,
  "nbformat_minor": 0,
  "metadata": {
    "colab": {
      "private_outputs": true,
      "provenance": []
    },
    "kernelspec": {
      "name": "python3",
      "display_name": "Python 3"
    },
    "language_info": {
      "name": "python"
    }
  },
  "cells": [
    {
      "cell_type": "code",
      "execution_count": null,
      "metadata": {
        "id": "nJn1iJF6HMCr"
      },
      "outputs": [],
      "source": [
        "# LINEAR REGRESSION PRACTICE FOR MTCARS"
      ]
    },
    {
      "cell_type": "code",
      "source": [
        "import matplotlib.pyplot as plt\n",
        "import numpy as np\n",
        "import pandas as pd\n",
        "import seaborn as sns\n",
        "from sklearn.linear_model import LinearRegression\n",
        "\n",
        "# ​# Show fewer digits to improve readability\n",
        "np.set_printoptions(precision=3, suppress=True)"
      ],
      "metadata": {
        "id": "qR37EWgZHnsL"
      },
      "execution_count": null,
      "outputs": []
    },
    {
      "cell_type": "code",
      "source": [
        "#download the \"MTCars\" database as a TSV file with no header row\n",
        "url = 'http://archive.ics.uci.edu/ml/machine-learning-databases/auto-mpg/auto-mpg.data'\n",
        "column_names = ['MPG', 'Cylinders', 'Displacement', 'Horsepower', 'Weight',\n",
        "               'Acceleration', 'Model Year', 'Origin']\n",
        "dataset = pd.read_csv(url, names=column_names,\n",
        "                         na_values='?', comment='\\t',\n",
        "                         sep=' ', skipinitialspace=True)\n",
        "dataset = dataset.dropna()#drop cars with incomplete data\n",
        "dataset.tail()"
      ],
      "metadata": {
        "id": "942XDjEmHzuP"
      },
      "execution_count": null,
      "outputs": []
    },
    {
      "cell_type": "code",
      "source": [
        "#adding nation of origin to as binary variable\n",
        "dataset['Origin'] = dataset['Origin'].map({1: 'USA', 2: 'Europe', 3: 'Japan'})\n",
        "dataset = pd.get_dummies(dataset, columns=['Origin'], prefix='', prefix_sep='')\n",
        "dataset.tail()"
      ],
      "metadata": {
        "id": "MH9ts1JAIVa1"
      },
      "execution_count": null,
      "outputs": []
    },
    {
      "cell_type": "code",
      "source": [
        "#split into train and test sets and plot\n",
        "train_dataset = dataset.sample(frac=0.8, random_state=0)\n",
        "test_dataset = dataset.drop(train_dataset.index)\n",
        "pp = sns.pairplot(data=train_dataset,\n",
        "                 x_vars=['Cylinders', 'Displacement', 'Weight','Model Year'],\n",
        "                 y_vars=['MPG'])\n",
        "plt.savefig('plots-four-features.pdf')\n",
        "plt.savefig('plots-four-features.svg')\n",
        "plt.savefig('plots-four-features-dpi-72.png',dpi=72)\n",
        "plt.savefig('plots-four-features-dpi-300.png',dpi=300)"
      ],
      "metadata": {
        "id": "tYZxMzEEIk3E"
      },
      "execution_count": null,
      "outputs": []
    },
    {
      "cell_type": "code",
      "source": [
        "#create training features and labels\n",
        "train_features = train_dataset.copy()\n",
        "test_features = test_dataset.copy()\n",
        "#use MPG as regression targets\n",
        "train_labels = train_features.pop('MPG')\n",
        "test_labels = test_features.pop('MPG')\n",
        "#train sklearn linear model\n",
        "linear_model = LinearRegression().fit(train_features, train_labels)"
      ],
      "metadata": {
        "id": "6r17VirEJDzg"
      },
      "execution_count": null,
      "outputs": []
    },
    {
      "cell_type": "code",
      "source": [
        "#test first row of test_features prediction\n",
        "linear_model.predict([test_features.iloc[0]])"
      ],
      "metadata": {
        "id": "c7tb2GfCJXNL"
      },
      "execution_count": null,
      "outputs": []
    },
    {
      "cell_type": "code",
      "source": [
        "#get coef and intercept\n",
        "\n",
        "print(linear_model.coef_)\n",
        "print(linear_model.intercept_)"
      ],
      "metadata": {
        "id": "A-WEKRi8KHH4"
      },
      "execution_count": null,
      "outputs": []
    },
    {
      "cell_type": "code",
      "source": [
        "chart_data = pd.DataFrame()\n",
        "chart_data[\"Index\"] = pd.DataFrame(range(0,len(test_features)))\n",
        "chart_data[\"Predicted\"] = pd.DataFrame(linear_model.predict(test_features))\n",
        "chart_data[\"True MPG\"] = pd.DataFrame(test_labels.to_list())\n",
        "chart_data[\"ABS Error\"] = abs(chart_data[\"True MPG\"] - chart_data[\"Predicted\"])\n",
        "chart_data[\"Weight\"] = pd.DataFrame(test_features[\"Weight\"].to_list())\n",
        "\n",
        "#print out the test set\n",
        "pp = sns.scatterplot(data=chart_data,\n",
        "                 x='Weight',\n",
        "                 y='True MPG',hue=\"ABS Error\",palette=sns.color_palette(\"coolwarm\", as_cmap=True))\n",
        "plt.savefig('plots-lm-test-output.pdf')\n",
        "plt.savefig('plots-lm-test-output.svg')\n",
        "plt.savefig('plots-lm-test-output-dpi-72.png',dpi=72)\n",
        "plt.savefig('plots-lm-test-output-dpi-300.png',dpi=300)"
      ],
      "metadata": {
        "id": "U1jrZsibKci9"
      },
      "execution_count": null,
      "outputs": []
    },
    {
      "cell_type": "code",
      "source": [
        "#increasing horsepower by 300 in the first row predicts MPG to a lower amount\n",
        "weight_offset = 300\n",
        "print(\"With\",weight_offset,\"more lbs weight, MPG predicted at\",linear_model.predict([[8,390,190,3850+weight_offset,8.5,70,0,0,1]]))\n",
        "\n",
        "#increasing horsepower by 3000 in the first row predicts MPG to a lower amount, which is negative\n",
        "weight_offset = 3000\n",
        "print(\"With\",weight_offset,\"more lbs weight, MPG predicted at\",linear_model.predict([[8,390,190,3850+weight_offset,8.5,70,0,0,1]]))"
      ],
      "metadata": {
        "id": "k22TF42dKyMB"
      },
      "execution_count": null,
      "outputs": []
    }
  ]
}
